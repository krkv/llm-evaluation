{
 "cells": [
  {
   "cell_type": "code",
   "execution_count": 14,
   "id": "a4cd8591-68e7-457e-b007-28719ffa8d60",
   "metadata": {
    "tags": []
   },
   "outputs": [],
   "source": [
    "from transformers import T5ForConditionalGeneration, T5Tokenizer\n",
    "import pandas as pd\n",
    "from torch.utils.data import DataLoader\n",
    "from t5_dataset import T5Dataset\n",
    "import torch"
   ]
  },
  {
   "cell_type": "code",
   "execution_count": 5,
   "id": "aed93418-4776-4189-813e-e1be08f78bd6",
   "metadata": {},
   "outputs": [
    {
     "data": {
      "application/vnd.jupyter.widget-view+json": {
       "model_id": "5a664c6f1c80453ba9bc6ecda13a662d",
       "version_major": 2,
       "version_minor": 0
      },
      "text/plain": [
       "tokenizer_config.json:   0%|          | 0.00/1.97k [00:00<?, ?B/s]"
      ]
     },
     "metadata": {},
     "output_type": "display_data"
    },
    {
     "data": {
      "application/vnd.jupyter.widget-view+json": {
       "model_id": "efc4fb772b9041aab90da29bf991734b",
       "version_major": 2,
       "version_minor": 0
      },
      "text/plain": [
       "spiece.model:   0%|          | 0.00/792k [00:00<?, ?B/s]"
      ]
     },
     "metadata": {},
     "output_type": "display_data"
    },
    {
     "data": {
      "application/vnd.jupyter.widget-view+json": {
       "model_id": "ae4cc1aac1954a4bb0023a461871f740",
       "version_major": 2,
       "version_minor": 0
      },
      "text/plain": [
       "special_tokens_map.json:   0%|          | 0.00/1.79k [00:00<?, ?B/s]"
      ]
     },
     "metadata": {},
     "output_type": "display_data"
    },
    {
     "name": "stderr",
     "output_type": "stream",
     "text": [
      "You are using the default legacy behaviour of the <class 'transformers.models.t5.tokenization_t5.T5Tokenizer'>. This is expected, and simply means that the `legacy` (previous) behavior will be used so nothing changes for you. If you want to use the new behaviour, set `legacy=False`. This should only be set if you understand what it means, and thoroughly read the reason why this was added as explained in https://github.com/huggingface/transformers/pull/24565\n",
      "/gpfs/helios/home/rodion/ttm/llm-evaluation/venv-llm-evaluation/lib/python3.9/site-packages/transformers/tokenization_utils_base.py:1601: FutureWarning: `clean_up_tokenization_spaces` was not set. It will be set to `True` by default. This behavior will be depracted in transformers v4.45, and will be then set to `False` by default. For more details check this issue: https://github.com/huggingface/transformers/issues/31884\n",
      "  warnings.warn(\n"
     ]
    }
   ],
   "source": [
    "# The model is hosted on Hugging Face\n",
    "t5_model_name = \"krkv/energy-t5-large\"\n",
    "device = \"cpu\"\n",
    "model = T5ForConditionalGeneration.from_pretrained(t5_model_name)\n",
    "model = model.to(device)\n",
    "model.eval()\n",
    "tokenizer = T5Tokenizer.from_pretrained(t5_model_name)"
   ]
  },
  {
   "cell_type": "code",
   "execution_count": 17,
   "id": "0bcfd7a1-2812-4e6e-aa82-f0447ea589d9",
   "metadata": {
    "tags": []
   },
   "outputs": [],
   "source": [
    "instruction = \"Convert the question into an SQL parse: \"\n",
    "\n",
    "sentences = [\"What can you do?\", \"I want to see the data\", \"What do you predict for ID 33?\"]\n",
    "\n",
    "sentences_with_instruction = [\n",
    "    instruction + sentence\n",
    "    for sentence in sentences\n",
    "]\n",
    "\n",
    "empty_targets = [\"\"] * len(sentences_with_instruction)\n",
    "\n",
    "prediction_dict = {\"source\": sentences_with_instruction, \"predict\": empty_targets}\n",
    "\n",
    "prediction_df = pd.DataFrame(prediction_dict)\n",
    "\n",
    "prediction_data_set = T5Dataset(dataframe=prediction_df,\n",
    "                                tokenizer=tokenizer,\n",
    "                                source_len=128,\n",
    "                                target_len=128,\n",
    "                                source_text=\"source\",\n",
    "                                target_text=\"predict\")\n",
    "\n",
    "prediction_data_loader = DataLoader(prediction_data_set,\n",
    "                                    batch_size=16,\n",
    "                                    shuffle=False,\n",
    "                                    num_workers=0)"
   ]
  },
  {
   "cell_type": "code",
   "execution_count": 18,
   "id": "3a630a02-2610-4ee0-aec6-9f59a73186ee",
   "metadata": {
    "tags": []
   },
   "outputs": [
    {
     "name": "stdout",
     "output_type": "stream",
     "text": [
      "['function [e]', 'data [e]', 'filter id 33 and predict [e]']\n"
     ]
    }
   ],
   "source": [
    "generated_texts = []\n",
    "with torch.no_grad():\n",
    "    for data in prediction_data_loader:\n",
    "        ids = data[\"source_ids\"].to(device, dtype=torch.long)\n",
    "        mask = data[\"source_mask\"].to(device, dtype=torch.long)\n",
    "        texts = data[\"source_text\"]\n",
    "\n",
    "        generated_ids = model.generate(\n",
    "            input_ids=ids,\n",
    "            attention_mask=mask,\n",
    "            max_length=150,\n",
    "            early_stopping=True\n",
    "        )\n",
    "        \n",
    "        generation_text = [\n",
    "            tokenizer.decode(c_tokes, skip_special_tokens=True, clean_up_tokenization_spaces=True).lower()\n",
    "            for c_tokes in generated_ids\n",
    "        ]\n",
    "\n",
    "        generated_texts.extend(generation_text)\n",
    "\n",
    "    print(generated_texts)"
   ]
  },
  {
   "cell_type": "code",
   "execution_count": null,
   "id": "8c9575d4-767d-411c-a9e6-1d509436b3dd",
   "metadata": {},
   "outputs": [],
   "source": []
  }
 ],
 "metadata": {
  "kernelspec": {
   "display_name": "venv-llm-evaluation",
   "language": "python",
   "name": "venv-llm-evaluation"
  },
  "language_info": {
   "codemirror_mode": {
    "name": "ipython",
    "version": 3
   },
   "file_extension": ".py",
   "mimetype": "text/x-python",
   "name": "python",
   "nbconvert_exporter": "python",
   "pygments_lexer": "ipython3",
   "version": "3.9.12"
  }
 },
 "nbformat": 4,
 "nbformat_minor": 5
}
