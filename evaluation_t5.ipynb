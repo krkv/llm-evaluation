{
 "cells": [
  {
   "cell_type": "markdown",
   "id": "ce0d45e9",
   "metadata": {},
   "source": [
    "# Evaluation of T5 models"
   ]
  },
  {
   "cell_type": "code",
   "execution_count": 10,
   "id": "a4cd8591-68e7-457e-b007-28719ffa8d60",
   "metadata": {
    "tags": []
   },
   "outputs": [],
   "source": [
    "from transformers import T5ForConditionalGeneration, T5Tokenizer\n",
    "import pandas as pd\n",
    "from torch.utils.data import DataLoader\n",
    "from t5_dataset import T5Dataset\n",
    "import torch\n",
    "import csv"
   ]
  },
  {
   "cell_type": "markdown",
   "id": "dae4b2e3",
   "metadata": {},
   "source": [
    "The model is hosted on Hugging Face: https://huggingface.co/krkv/energy-t5-large\n",
    "\n",
    "It is downloaded by `transformers` package on the first run (around 3GB) and cached locally for the next runs."
   ]
  },
  {
   "cell_type": "code",
   "execution_count": 4,
   "id": "aed93418-4776-4189-813e-e1be08f78bd6",
   "metadata": {},
   "outputs": [],
   "source": [
    "t5_model_name = \"krkv/energy-t5-large\"\n",
    "device = \"cpu\"\n",
    "model = T5ForConditionalGeneration.from_pretrained(t5_model_name)\n",
    "model = model.to(device)\n",
    "model.eval()\n",
    "tokenizer = T5Tokenizer.from_pretrained(t5_model_name)"
   ]
  },
  {
   "cell_type": "markdown",
   "id": "4379f060",
   "metadata": {},
   "source": [
    "Reading the gold parse dataset:"
   ]
  },
  {
   "cell_type": "code",
   "execution_count": 13,
   "id": "ad4657ed",
   "metadata": {},
   "outputs": [],
   "source": [
    "df = pd.read_csv(\"gold_parse_energy.csv\")\n",
    "input_sentences = df.iloc[:,0].values\n",
    "input_parses = df.iloc[:,1].values\n",
    "input_size = len(input_sentences)"
   ]
  },
  {
   "cell_type": "markdown",
   "id": "5b69e0fa",
   "metadata": {},
   "source": [
    "Input sentences are appended with the instruction prompt and wrapped with a T5 dataset class:"
   ]
  },
  {
   "cell_type": "code",
   "execution_count": 14,
   "id": "0bcfd7a1-2812-4e6e-aa82-f0447ea589d9",
   "metadata": {
    "tags": []
   },
   "outputs": [],
   "source": [
    "instruction = \"Convert the question into an SQL parse: \"\n",
    "\n",
    "sentences_with_instruction = [\n",
    "    instruction + sentence\n",
    "    for sentence in input_sentences\n",
    "]\n",
    "\n",
    "empty_targets = [\"\"] * len(sentences_with_instruction)\n",
    "\n",
    "prediction_dict = {\"source\": sentences_with_instruction, \"predict\": empty_targets}\n",
    "\n",
    "prediction_df = pd.DataFrame(prediction_dict)\n",
    "\n",
    "prediction_data_set = T5Dataset(dataframe=prediction_df,\n",
    "                                tokenizer=tokenizer,\n",
    "                                source_len=128,\n",
    "                                target_len=128,\n",
    "                                source_text=\"source\",\n",
    "                                target_text=\"predict\")\n",
    "\n",
    "prediction_data_loader = DataLoader(prediction_data_set,\n",
    "                                    batch_size=16,\n",
    "                                    shuffle=False,\n",
    "                                    num_workers=0)"
   ]
  },
  {
   "cell_type": "markdown",
   "id": "11969b20",
   "metadata": {},
   "source": [
    "Define a method to record evaluation results:"
   ]
  },
  {
   "cell_type": "code",
   "execution_count": 15,
   "id": "959605ae",
   "metadata": {},
   "outputs": [],
   "source": [
    "EVALUATION_LOG_FILE = 'evaluation_log.csv'\n",
    "\n",
    "def log_result(user_input, expected_parse, generated_parse):\n",
    "    with open(EVALUATION_LOG_FILE, mode='a', newline='') as file:\n",
    "        writer = csv.writer(file)\n",
    "        writer.writerow([user_input, expected_parse, generated_parse])"
   ]
  },
  {
   "cell_type": "markdown",
   "id": "388f1ba6",
   "metadata": {},
   "source": [
    "This loop handles loading of data in batches and generating of parses by calling `model.generate`:"
   ]
  },
  {
   "cell_type": "code",
   "execution_count": 16,
   "id": "3a630a02-2610-4ee0-aec6-9f59a73186ee",
   "metadata": {
    "tags": []
   },
   "outputs": [
    {
     "name": "stderr",
     "output_type": "stream",
     "text": [
      "/home/rodion/TrustAI/llm-evaluation/venv-t5-eval/lib/python3.10/site-packages/transformers/generation/configuration_utils.py:615: UserWarning: `num_beams` is set to 1. However, `early_stopping` is set to `True` -- this flag is only used in beam-based generation modes. You should set `num_beams>1` or unset `early_stopping`.\n",
      "  warnings.warn(\n"
     ]
    }
   ],
   "source": [
    "generated_parses = []\n",
    "\n",
    "with torch.no_grad():\n",
    "    for data in prediction_data_loader:\n",
    "        ids = data[\"source_ids\"].to(device, dtype=torch.long)\n",
    "        mask = data[\"source_mask\"].to(device, dtype=torch.long)\n",
    "\n",
    "        generated_ids = model.generate(\n",
    "            input_ids=ids,\n",
    "            attention_mask=mask,\n",
    "            max_length=150,\n",
    "            early_stopping=True\n",
    "        )\n",
    "        \n",
    "        generation_text = [\n",
    "            tokenizer.decode(tokens, skip_special_tokens=True, clean_up_tokenization_spaces=True).lower()\n",
    "            for tokens in generated_ids\n",
    "        ]\n",
    "\n",
    "        generated_parses.extend(generation_text)"
   ]
  },
  {
   "cell_type": "code",
   "execution_count": 18,
   "id": "a5a3aff3",
   "metadata": {},
   "outputs": [],
   "source": [
    "for i in range(input_size):\n",
    "    log_result(input_sentences[i], input_parses[i], generated_parses[i])"
   ]
  },
  {
   "cell_type": "markdown",
   "id": "0d2430f0",
   "metadata": {},
   "source": [
    "Define a method to calculate the model accuracy:"
   ]
  },
  {
   "cell_type": "code",
   "execution_count": 30,
   "id": "3120f781",
   "metadata": {},
   "outputs": [],
   "source": [
    "def calculate_accuracy(log_file):\n",
    "    eval_log = pd.read_csv(log_file)\n",
    "    eval_log = eval_log.drop_duplicates()\n",
    "    correct_parses = 0\n",
    "    correct_percent = 0\n",
    "    expected_parses = eval_log['expected_parse'].values\n",
    "    parsed_utterances = eval_log['parsed_utterance'].values\n",
    "    log_size = len(expected_parses)\n",
    "    for i in range(log_size):\n",
    "        print(\"Expected: \" + expected_parses[i], \"- Generated: \" + parsed_utterances[i])\n",
    "        if expected_parses[i] == parsed_utterances[i]:\n",
    "            correct_parses += 1\n",
    "    print()\n",
    "   \n",
    "    if correct_parses > 0:\n",
    "        correct_percent = round((correct_parses / input_size) * 100, 2)\n",
    "        \n",
    "    return str(correct_percent)"
   ]
  },
  {
   "cell_type": "code",
   "execution_count": 31,
   "id": "06bbb4a9",
   "metadata": {},
   "outputs": [
    {
     "name": "stdout",
     "output_type": "stream",
     "text": [
      "Expected: function [e] - Generated: function [e]\n",
      "Expected: self [e] - Generated: self [e]\n",
      "Expected: self and function [e] - Generated: previousfilter and explain features [e]\n",
      "Expected: self [e] - Generated: self and function [e]\n",
      "Expected: function [e] - Generated: previousfilter and explain features [e]\n",
      "Expected: data [e] - Generated: data [e]\n",
      "Expected: model [e] - Generated: model [e]\n",
      "Expected: data and model [e] - Generated: data and model [e]\n",
      "Expected: model and data [e] - Generated: model and data [e]\n",
      "Expected: features [e] - Generated: define [e]\n",
      "\n",
      "Calculated accuracy: 60.0%\n"
     ]
    }
   ],
   "source": [
    "acc = calculate_accuracy(\"evaluation_log.csv\")\n",
    "\n",
    "print(f\"Calculated accuracy: {acc}%\")"
   ]
  }
 ],
 "metadata": {
  "kernelspec": {
   "display_name": "venv-llm-evaluation",
   "language": "python",
   "name": "python3"
  },
  "language_info": {
   "codemirror_mode": {
    "name": "ipython",
    "version": 3
   },
   "file_extension": ".py",
   "mimetype": "text/x-python",
   "name": "python",
   "nbconvert_exporter": "python",
   "pygments_lexer": "ipython3",
   "version": "3.10.12"
  }
 },
 "nbformat": 4,
 "nbformat_minor": 5
}
