{
 "cells": [
  {
   "cell_type": "code",
   "execution_count": 1,
   "id": "a4cd8591-68e7-457e-b007-28719ffa8d60",
   "metadata": {
    "tags": []
   },
   "outputs": [
    {
     "name": "stderr",
     "output_type": "stream",
     "text": [
      "/home/rodion/TrustAI/llm-evaluation/t5/venv-t5-eval/lib/python3.10/site-packages/tqdm/auto.py:21: TqdmWarning: IProgress not found. Please update jupyter and ipywidgets. See https://ipywidgets.readthedocs.io/en/stable/user_install.html\n",
      "  from .autonotebook import tqdm as notebook_tqdm\n"
     ]
    }
   ],
   "source": [
    "from transformers import T5ForConditionalGeneration, T5Tokenizer\n",
    "import pandas as pd\n",
    "from torch.utils.data import DataLoader\n",
    "from t5_dataset import T5Dataset\n",
    "import torch"
   ]
  },
  {
   "cell_type": "code",
   "execution_count": 2,
   "id": "aed93418-4776-4189-813e-e1be08f78bd6",
   "metadata": {},
   "outputs": [
    {
     "name": "stderr",
     "output_type": "stream",
     "text": [
      "You are using the default legacy behaviour of the <class 'transformers.models.t5.tokenization_t5.T5Tokenizer'>. This is expected, and simply means that the `legacy` (previous) behavior will be used so nothing changes for you. If you want to use the new behaviour, set `legacy=False`. This should only be set if you understand what it means, and thoroughly read the reason why this was added as explained in https://github.com/huggingface/transformers/pull/24565\n",
      "/home/rodion/TrustAI/llm-evaluation/t5/venv-t5-eval/lib/python3.10/site-packages/transformers/tokenization_utils_base.py:1601: FutureWarning: `clean_up_tokenization_spaces` was not set. It will be set to `True` by default. This behavior will be depracted in transformers v4.45, and will be then set to `False` by default. For more details check this issue: https://github.com/huggingface/transformers/issues/31884\n",
      "  warnings.warn(\n"
     ]
    }
   ],
   "source": [
    "# The model is hosted on Hugging Face\n",
    "t5_model_name = \"krkv/energy-t5-large\"\n",
    "device = \"cpu\"\n",
    "model = T5ForConditionalGeneration.from_pretrained(t5_model_name)\n",
    "model = model.to(device)\n",
    "model.eval()\n",
    "tokenizer = T5Tokenizer.from_pretrained(t5_model_name)"
   ]
  },
  {
   "cell_type": "code",
   "execution_count": 14,
   "id": "ad4657ed",
   "metadata": {},
   "outputs": [],
   "source": [
    "df = pd.read_csv(\"../gold_parse_energy.csv\")\n",
    "input_sentences = df.iloc[:,0].values"
   ]
  },
  {
   "cell_type": "code",
   "execution_count": 15,
   "id": "0bcfd7a1-2812-4e6e-aa82-f0447ea589d9",
   "metadata": {
    "tags": []
   },
   "outputs": [],
   "source": [
    "instruction = \"Convert the question into an SQL parse: \"\n",
    "\n",
    "sentences = [\"What can you do?\", \"I want to see the data\", \"What do you predict for ID 33?\"]\n",
    "\n",
    "sentences_with_instruction = [\n",
    "    instruction + sentence\n",
    "    for sentence in input_sentences\n",
    "]\n",
    "\n",
    "empty_targets = [\"\"] * len(sentences_with_instruction)\n",
    "\n",
    "prediction_dict = {\"source\": sentences_with_instruction, \"predict\": empty_targets}\n",
    "\n",
    "prediction_df = pd.DataFrame(prediction_dict)\n",
    "\n",
    "prediction_data_set = T5Dataset(dataframe=prediction_df,\n",
    "                                tokenizer=tokenizer,\n",
    "                                source_len=128,\n",
    "                                target_len=128,\n",
    "                                source_text=\"source\",\n",
    "                                target_text=\"predict\")\n",
    "\n",
    "prediction_data_loader = DataLoader(prediction_data_set,\n",
    "                                    batch_size=16,\n",
    "                                    shuffle=False,\n",
    "                                    num_workers=0)"
   ]
  },
  {
   "cell_type": "code",
   "execution_count": 16,
   "id": "3a630a02-2610-4ee0-aec6-9f59a73186ee",
   "metadata": {
    "tags": []
   },
   "outputs": [
    {
     "name": "stderr",
     "output_type": "stream",
     "text": [
      "/home/rodion/TrustAI/llm-evaluation/t5/venv-t5-eval/lib/python3.10/site-packages/transformers/generation/configuration_utils.py:615: UserWarning: `num_beams` is set to 1. However, `early_stopping` is set to `True` -- this flag is only used in beam-based generation modes. You should set `num_beams>1` or unset `early_stopping`.\n",
      "  warnings.warn(\n"
     ]
    },
    {
     "name": "stdout",
     "output_type": "stream",
     "text": [
      "['explain features [e]', 'function [e]', 'self [e]']\n"
     ]
    }
   ],
   "source": [
    "generated_texts = []\n",
    "with torch.no_grad():\n",
    "    for data in prediction_data_loader:\n",
    "        ids = data[\"source_ids\"].to(device, dtype=torch.long)\n",
    "        mask = data[\"source_mask\"].to(device, dtype=torch.long)\n",
    "        texts = data[\"source_text\"]\n",
    "\n",
    "        generated_ids = model.generate(\n",
    "            input_ids=ids,\n",
    "            attention_mask=mask,\n",
    "            max_length=150,\n",
    "            early_stopping=True\n",
    "        )\n",
    "        \n",
    "        generation_text = [\n",
    "            tokenizer.decode(c_tokes, skip_special_tokens=True, clean_up_tokenization_spaces=True).lower()\n",
    "            for c_tokes in generated_ids\n",
    "        ]\n",
    "\n",
    "        generated_texts.extend(generation_text)"
   ]
  },
  {
   "cell_type": "code",
   "execution_count": 39,
   "id": "8c9575d4-767d-411c-a9e6-1d509436b3dd",
   "metadata": {},
   "outputs": [],
   "source": [
    "correct_parses = df.iloc[:,1].values"
   ]
  },
  {
   "cell_type": "code",
   "execution_count": 30,
   "id": "63d45512",
   "metadata": {},
   "outputs": [
    {
     "name": "stdout",
     "output_type": "stream",
     "text": [
      "function [e] explain features [e]\n",
      "function [e] function [e]\n",
      "function [e] self [e]\n"
     ]
    }
   ],
   "source": [
    "utterances_total = len(input_sentences)\n",
    "parses_correct = 0\n",
    "for i in range(utterances_total):\n",
    "    print(correct_parses[i], generated_texts[i])\n",
    "    if correct_parses[i] == generated_texts[i]:\n",
    "        parses_correct += 1"
   ]
  },
  {
   "cell_type": "code",
   "execution_count": 38,
   "id": "50c2a8e0",
   "metadata": {},
   "outputs": [
    {
     "name": "stdout",
     "output_type": "stream",
     "text": [
      "Model accuracy: 33.33%\n"
     ]
    }
   ],
   "source": [
    "percent_correct = round((parses_correct / utterances_total) * 100, 2)\n",
    "print(\"Model accuracy: \" + str(percent_correct) + \"%\")"
   ]
  }
 ],
 "metadata": {
  "kernelspec": {
   "display_name": "venv-llm-evaluation",
   "language": "python",
   "name": "python3"
  },
  "language_info": {
   "codemirror_mode": {
    "name": "ipython",
    "version": 3
   },
   "file_extension": ".py",
   "mimetype": "text/x-python",
   "name": "python",
   "nbconvert_exporter": "python",
   "pygments_lexer": "ipython3",
   "version": "3.10.12"
  }
 },
 "nbformat": 4,
 "nbformat_minor": 5
}
