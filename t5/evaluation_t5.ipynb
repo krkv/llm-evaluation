{
 "cells": [
  {
   "cell_type": "code",
   "execution_count": 17,
   "id": "a4cd8591-68e7-457e-b007-28719ffa8d60",
   "metadata": {
    "tags": []
   },
   "outputs": [],
   "source": [
    "from transformers import T5ForConditionalGeneration, T5Tokenizer\n",
    "import pandas as pd\n",
    "from torch.utils.data import DataLoader\n",
    "from t5_dataset import T5Dataset\n",
    "import torch"
   ]
  },
  {
   "cell_type": "markdown",
   "id": "dae4b2e3",
   "metadata": {},
   "source": [
    "The model is hosted on Hugging Face: https://huggingface.co/krkv/energy-t5-large\n",
    "\n",
    "It is downloaded by `transformers` package on the first run (around 3GB) and cached locally for the next runs."
   ]
  },
  {
   "cell_type": "code",
   "execution_count": 18,
   "id": "aed93418-4776-4189-813e-e1be08f78bd6",
   "metadata": {},
   "outputs": [
    {
     "name": "stderr",
     "output_type": "stream",
     "text": [
      "/home/rodion/TrustAI/llm-evaluation/t5/venv-t5-eval/lib/python3.10/site-packages/transformers/tokenization_utils_base.py:1601: FutureWarning: `clean_up_tokenization_spaces` was not set. It will be set to `True` by default. This behavior will be depracted in transformers v4.45, and will be then set to `False` by default. For more details check this issue: https://github.com/huggingface/transformers/issues/31884\n",
      "  warnings.warn(\n"
     ]
    }
   ],
   "source": [
    "t5_model_name = \"krkv/energy-t5-large\"\n",
    "device = \"cpu\"\n",
    "model = T5ForConditionalGeneration.from_pretrained(t5_model_name)\n",
    "model = model.to(device)\n",
    "model.eval()\n",
    "tokenizer = T5Tokenizer.from_pretrained(t5_model_name)"
   ]
  },
  {
   "cell_type": "markdown",
   "id": "4379f060",
   "metadata": {},
   "source": [
    "Reading the gold parse dataset:"
   ]
  },
  {
   "cell_type": "code",
   "execution_count": 23,
   "id": "ad4657ed",
   "metadata": {},
   "outputs": [],
   "source": [
    "df = pd.read_csv(\"../gold_parse_energy.csv\")\n",
    "input_sentences = df.iloc[:,0].values\n",
    "input_parses = df.iloc[:,1].values\n",
    "input_size = len(input_sentences)"
   ]
  },
  {
   "cell_type": "markdown",
   "id": "5b69e0fa",
   "metadata": {},
   "source": [
    "Input sentences are appended with the instruction prompt and wrapped with a T5 dataset class:"
   ]
  },
  {
   "cell_type": "code",
   "execution_count": 20,
   "id": "0bcfd7a1-2812-4e6e-aa82-f0447ea589d9",
   "metadata": {
    "tags": []
   },
   "outputs": [],
   "source": [
    "instruction = \"Convert the question into an SQL parse: \"\n",
    "\n",
    "sentences_with_instruction = [\n",
    "    instruction + sentence\n",
    "    for sentence in input_sentences\n",
    "]\n",
    "\n",
    "empty_targets = [\"\"] * len(sentences_with_instruction)\n",
    "\n",
    "prediction_dict = {\"source\": sentences_with_instruction, \"predict\": empty_targets}\n",
    "\n",
    "prediction_df = pd.DataFrame(prediction_dict)\n",
    "\n",
    "prediction_data_set = T5Dataset(dataframe=prediction_df,\n",
    "                                tokenizer=tokenizer,\n",
    "                                source_len=128,\n",
    "                                target_len=128,\n",
    "                                source_text=\"source\",\n",
    "                                target_text=\"predict\")\n",
    "\n",
    "prediction_data_loader = DataLoader(prediction_data_set,\n",
    "                                    batch_size=16,\n",
    "                                    shuffle=False,\n",
    "                                    num_workers=0)"
   ]
  },
  {
   "cell_type": "markdown",
   "id": "388f1ba6",
   "metadata": {},
   "source": [
    "This loop handles loading of data in batches and generating of parses by calling `model.generate`:"
   ]
  },
  {
   "cell_type": "code",
   "execution_count": 21,
   "id": "3a630a02-2610-4ee0-aec6-9f59a73186ee",
   "metadata": {
    "tags": []
   },
   "outputs": [
    {
     "name": "stderr",
     "output_type": "stream",
     "text": [
      "/home/rodion/TrustAI/llm-evaluation/t5/venv-t5-eval/lib/python3.10/site-packages/transformers/generation/configuration_utils.py:615: UserWarning: `num_beams` is set to 1. However, `early_stopping` is set to `True` -- this flag is only used in beam-based generation modes. You should set `num_beams>1` or unset `early_stopping`.\n",
      "  warnings.warn(\n"
     ]
    }
   ],
   "source": [
    "generated_parses = []\n",
    "\n",
    "with torch.no_grad():\n",
    "    for data in prediction_data_loader:\n",
    "        ids = data[\"source_ids\"].to(device, dtype=torch.long)\n",
    "        mask = data[\"source_mask\"].to(device, dtype=torch.long)\n",
    "\n",
    "        generated_ids = model.generate(\n",
    "            input_ids=ids,\n",
    "            attention_mask=mask,\n",
    "            max_length=150,\n",
    "            early_stopping=True\n",
    "        )\n",
    "        \n",
    "        generation_text = [\n",
    "            tokenizer.decode(tokens, skip_special_tokens=True, clean_up_tokenization_spaces=True).lower()\n",
    "            for tokens in generated_ids\n",
    "        ]\n",
    "\n",
    "        generated_parses.extend(generation_text)"
   ]
  },
  {
   "cell_type": "markdown",
   "id": "1ff054cc",
   "metadata": {},
   "source": [
    "Make a calculation of accuracy as percent of correct parses over the entire dataset:"
   ]
  },
  {
   "cell_type": "code",
   "execution_count": 24,
   "id": "63d45512",
   "metadata": {},
   "outputs": [
    {
     "name": "stdout",
     "output_type": "stream",
     "text": [
      "Expected: function [e] - Generated: function [e]\n",
      "Expected: self [e] - Generated: self [e]\n",
      "Expected: self and function [e] - Generated: previousfilter and explain features [e]\n",
      "Expected: self [e] - Generated: self and function [e]\n",
      "Expected: function [e] - Generated: previousfilter and explain features [e]\n",
      "Expected: data [e] - Generated: data [e]\n",
      "Expected: model [e] - Generated: model [e]\n",
      "Expected: data and model [e] - Generated: data and model [e]\n",
      "Expected: model and data [e] - Generated: model and data [e]\n",
      "Expected: features [e] - Generated: define [e]\n",
      "\n",
      "==========\n",
      "\n",
      "Calculated model accuracy: 60.0%\n"
     ]
    }
   ],
   "source": [
    "correct_parses = 0\n",
    "correct_percent = 0\n",
    "\n",
    "for i in range(input_size):\n",
    "    print(\"Expected: \" + input_parses[i], \"- Generated: \" + generated_parses[i])\n",
    "    if input_parses[i] == generated_parses[i]:\n",
    "        correct_parses += 1\n",
    "\n",
    "if correct_parses > 0:\n",
    "    correct_percent = round((correct_parses / input_size) * 100, 2)\n",
    "    \n",
    "print(\"\\n==========\\n\")\n",
    "print(\"Calculated model accuracy: \" + str(correct_percent) + \"%\")"
   ]
  },
  {
   "cell_type": "code",
   "execution_count": null,
   "id": "e7fd3d9f",
   "metadata": {},
   "outputs": [],
   "source": []
  }
 ],
 "metadata": {
  "kernelspec": {
   "display_name": "venv-llm-evaluation",
   "language": "python",
   "name": "python3"
  },
  "language_info": {
   "codemirror_mode": {
    "name": "ipython",
    "version": 3
   },
   "file_extension": ".py",
   "mimetype": "text/x-python",
   "name": "python",
   "nbconvert_exporter": "python",
   "pygments_lexer": "ipython3",
   "version": "3.10.12"
  }
 },
 "nbformat": 4,
 "nbformat_minor": 5
}
